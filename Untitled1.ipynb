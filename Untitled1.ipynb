{
 "cells": [
  {
   "cell_type": "code",
   "execution_count": 123,
   "metadata": {},
   "outputs": [],
   "source": [
    "import random"
   ]
  },
  {
   "cell_type": "code",
   "execution_count": 183,
   "metadata": {},
   "outputs": [],
   "source": [
    "def print_line(length):\n",
    "    for i in range(length):\n",
    "        print('-',end=\"\")\n",
    "    print('+',end=\"\")\n",
    "def print_line_char(length,var):\n",
    "    temp=len(str(var))\n",
    "    print(var,end=\"\")\n",
    "    for i in range(length-temp):\n",
    "        print(end=\" \")\n",
    "def print_plus():\n",
    "    print('+',end=\"\")\n",
    "def print_vertical():\n",
    "    print('|',end=\"\")\n",
    "def new_print(matrix):\n",
    "    length=5\n",
    "    print_plus()\n",
    "    for i in range(len(matrix)):\n",
    "        print_line(length)\n",
    "    print()\n",
    "    for j in range(len(matrix)):\n",
    "        print_vertical()\n",
    "        for i in range(len(matrix)):\n",
    "            print_line_char(length,matrix[j][i])\n",
    "            print_vertical()\n",
    "        print()\n",
    "        print_plus()\n",
    "        for i in range(len(matrix)):\n",
    "            print_line(length)\n",
    "        print()"
   ]
  },
  {
   "cell_type": "code",
   "execution_count": 122,
   "metadata": {},
   "outputs": [],
   "source": [
    "def print_matrix(matrix):\n",
    "    print(end=\" \")\n",
    "    for i in range(5*len(matrix[0])-(len(matrix[0]))//2+1):\n",
    "        print(\"- \",end=\"\")\n",
    "    print()\n",
    "    for j in range(len(matrix)):\n",
    "        print('| ',end=\"\")\n",
    "        for i in range(len(matrix[0])):\n",
    "            if len(str(matrix[j][i]))==2:\n",
    "                print(matrix[j][i],end=\"|\")\n",
    "            else:\n",
    "                print(matrix[j][i],end=\" |\")\n",
    "        print()\n",
    "        print(end=\" \")\n",
    "        for i in range(2*len(matrix[0])-(len(matrix[0]))//2+1):\n",
    "            print(\"- \",end=\"\")\n",
    "        print()"
   ]
  },
  {
   "cell_type": "code",
   "execution_count": 355,
   "metadata": {},
   "outputs": [],
   "source": [
    "def Relu(matrix):\n",
    "    for i in range(len(matrix)):\n",
    "        for j in range(len(matrix[0])):\n",
    "            if matrix[i][j]<0:\n",
    "                matrix[i][j]=0\n",
    "    return matrix"
   ]
  },
  {
   "cell_type": "code",
   "execution_count": 353,
   "metadata": {},
   "outputs": [],
   "source": [
    "def matrix_multi_convolution(new_matrix,conv_matrix):\n",
    "    test=[]\n",
    "    for k1 in range(len(new_matrix)-len(conv_matrix)+1):\n",
    "        test_row=[]\n",
    "        for k in range(len(new_matrix)-len(conv_matrix)+1):\n",
    "            temp=0\n",
    "            for i in range(k1,len(conv_matrix)+k1):\n",
    "                for j in range(k,len(conv_matrix)+k):\n",
    "                    temp=temp+new_matrix[i][j]*conv_matrix[i-k1][j-k]\n",
    "            test_row.append(float(\"{:.2f}\".format(temp/9)))\n",
    "            #print(float(\"{:.2f}\".format(temp/9)),end=\" \")\n",
    "        #print()\n",
    "        test.append(test_row)\n",
    "    return(np.array(test))\n",
    "            "
   ]
  },
  {
   "cell_type": "code",
   "execution_count": 404,
   "metadata": {},
   "outputs": [],
   "source": [
    "def max_pooling_2(matrix):\n",
    "    size_pooling=2\n",
    "    width=len(matrix[0])//size_pooling\n",
    "    height=len(matrix)//size_pooling\n",
    "    if (len(matrix)%2)==0:\n",
    "        new_matrix=[[0.0]*width]*height\n",
    "        new_matrix=np.array(new_matrix)\n",
    "    else:\n",
    "        print(len(matrix))\n",
    "        new_matrix=add_column_row(matrix,1)\n",
    "    for k in range(0,len(matrix),size_pooling):\n",
    "        for k1 in range(0,len(matrix),size_pooling):\n",
    "            temp=[]\n",
    "            for i in range(k,size_pooling+k):\n",
    "                for j in range(k1,size_pooling+k1):\n",
    "                    temp.append(matrix[i][j])\n",
    "            new_matrix[k//2][k1//2]=max(temp)\n",
    "    return new_matrix"
   ]
  },
  {
   "cell_type": "code",
   "execution_count": 406,
   "metadata": {},
   "outputs": [],
   "source": [
    "def add_column_row(matrix,number):\n",
    "    number=len(matrix)+number\n",
    "    new_matrix=[[0]*number]*number\n",
    "    new_matrix=np.array(new_matrix)\n",
    "    for j in range(0,len(matrix)):\n",
    "        for i in range(0,len(matrix[0])):\n",
    "            new_matrix[j+1][i+1]=matrix[j][i]\n",
    "    return new_matrix"
   ]
  },
  {
   "cell_type": "code",
   "execution_count": 351,
   "metadata": {},
   "outputs": [],
   "source": [
    "import numpy as np"
   ]
  },
  {
   "cell_type": "code",
   "execution_count": 430,
   "metadata": {},
   "outputs": [],
   "source": [
    "#row_m stand for row\n",
    "#matrix stand for main matrix\n",
    "input_number_selection=[-1,1]\n",
    "mat_size=64\n",
    "matrix=[[0]*mat_size]*mat_size\n",
    "matrix=np.array(matrix)\n",
    "for j in range(mat_size):\n",
    "    for i in range(mat_size):\n",
    "        matrix[j][i]=random.choice(input_number_selection)"
   ]
  },
  {
   "cell_type": "code",
   "execution_count": 384,
   "metadata": {},
   "outputs": [],
   "source": [
    "#new_matrix=add_column_row(matrix,len(matrix)+1)"
   ]
  },
  {
   "cell_type": "code",
   "execution_count": 431,
   "metadata": {},
   "outputs": [],
   "source": [
    "conv_matrix=np.array([[1,0,0],\n",
    "                      [0,1,0],\n",
    "                      [0,0,1]])"
   ]
  },
  {
   "cell_type": "code",
   "execution_count": 433,
   "metadata": {},
   "outputs": [
    {
     "name": "stdout",
     "output_type": "stream",
     "text": [
      "60 60\n",
      "30 30\n",
      "14 14\n",
      "6 6\n",
      "2 2\n"
     ]
    }
   ],
   "source": [
    "x=matrix_multi_convolution(matrix,conv_matrix)\n",
    "x=Relu(x)\n",
    "x=matrix_multi_convolution(x,conv_matrix)\n",
    "x=Relu(x)\n",
    "print(len(x),len(x[0]))\n",
    "x=max_pooling_2(x)\n",
    "print(len(x),len(x[0]))\n",
    "x=matrix_multi_convolution(x,conv_matrix)\n",
    "x=Relu(x)\n",
    "x=max_pooling_2(x)\n",
    "print(len(x),len(x[0]))\n",
    "x=matrix_multi_convolution(x,conv_matrix)\n",
    "x=Relu(x)\n",
    "x=max_pooling_2(x)\n",
    "print(len(x),len(x[0]))\n",
    "x=matrix_multi_convolution(x,conv_matrix)\n",
    "x=Relu(x)\n",
    "x=max_pooling_2(x)\n",
    "print(len(x),len(x[0]))"
   ]
  },
  {
   "cell_type": "code",
   "execution_count": 427,
   "metadata": {},
   "outputs": [
    {
     "name": "stdout",
     "output_type": "stream",
     "text": [
      "2 2\n",
      "+-----+-----+\n",
      "|0.06 |0.05 |\n",
      "+-----+-----+\n",
      "|0.05 |0.05 |\n",
      "+-----+-----+\n"
     ]
    }
   ],
   "source": [
    "print(len(x),len(x[0]))\n",
    "new_print(x)"
   ]
  }
 ],
 "metadata": {
  "kernelspec": {
   "display_name": "Python 3",
   "language": "python",
   "name": "python3"
  },
  "language_info": {
   "codemirror_mode": {
    "name": "ipython",
    "version": 3
   },
   "file_extension": ".py",
   "mimetype": "text/x-python",
   "name": "python",
   "nbconvert_exporter": "python",
   "pygments_lexer": "ipython3",
   "version": "3.8.3"
  }
 },
 "nbformat": 4,
 "nbformat_minor": 4
}
